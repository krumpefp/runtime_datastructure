{
 "cells": [
  {
   "cell_type": "code",
   "execution_count": 1,
   "metadata": {
    "collapsed": true
   },
   "outputs": [],
   "source": [
    "from ctypes import *\n",
    "\n",
    "runtime_ds = CDLL(\"../target/release/libruntime_datastructure.so\")"
   ]
  },
  {
   "cell_type": "code",
   "execution_count": 2,
   "metadata": {
    "collapsed": true
   },
   "outputs": [],
   "source": [
    "class C_Label(Structure):\n",
    "    _fields_ = [(\"x\", c_double),\n",
    "                (\"y\", c_double),\n",
    "                (\"t\", c_double),\n",
    "                (\"osm_id\", c_long),\n",
    "                (\"prio\", c_int),\n",
    "                (\"label\", c_char_p)]\n",
    "    \n",
    "class C_Result(Structure):\n",
    "    _fields_ = [(\"size\", c_uint64),\n",
    "                (\"data\", POINTER(C_Label))]\n",
    "    \n",
    "class Label:\n",
    "    def __init__(self, l):\n",
    "        self.x = l.x\n",
    "        self.y = l.y\n",
    "        self.t = l.t\n",
    "        \n",
    "        self.osm_id = l.osm_id\n",
    "        self.prio = l.prio\n",
    "        self.label = l.label.decode(\"utf-8\")\n",
    "        \n",
    "    def to_string(self):\n",
    "        return \"Label #{}: '{}' at (x: {}, y:{}) with prio {} has t = {}\".format(self.osm_id, self.label, self.x, self.y, self.prio, self.t)"
   ]
  },
  {
   "cell_type": "code",
   "execution_count": 3,
   "metadata": {
    "collapsed": true
   },
   "outputs": [],
   "source": [
    "# init\n",
    "runtime_ds.init.argtypes = [c_char_p]\n",
    "runtime_ds.init.restype = c_void_p\n",
    "\n",
    "# is_good\n",
    "runtime_ds.is_good.argtypes = [c_void_p]\n",
    "runtime_ds.is_good.restype = c_bool\n",
    "\n",
    "#get_data\n",
    "runtime_ds.get_data.argtypes = [c_void_p, c_double, c_double, c_double, c_double, c_double]\n",
    "runtime_ds.get_data.restype = C_Result"
   ]
  },
  {
   "cell_type": "code",
   "execution_count": 4,
   "metadata": {
    "collapsed": true
   },
   "outputs": [],
   "source": [
    "def to_c_string(s):\n",
    "    return create_string_buffer(s.encode('utf-8'))"
   ]
  },
  {
   "cell_type": "code",
   "execution_count": 5,
   "metadata": {},
   "outputs": [
    {
     "name": "stdout",
     "output_type": "stream",
     "text": [
      "Initialisieren der Datenstuktur war erfolgreich: True\n"
     ]
    }
   ],
   "source": [
    "ds = runtime_ds.init(to_c_string(\"../resources/baden-wuerttemberg-latest.osm.pbf.ce\"))\n",
    "\n",
    "print(\"Initialisieren der Datenstuktur war erfolgreich: {}\".format(runtime_ds.is_good(ds)))"
   ]
  },
  {
   "cell_type": "code",
   "execution_count": 6,
   "metadata": {},
   "outputs": [
    {
     "name": "stdout",
     "output_type": "stream",
     "text": [
      "Found 24 matching items:\n",
      "\n",
      "Label #26769661: 'Heilbronn' at (x: 9.218655, y:49.142291) with prio 14075 has t = 3.2690108033729004\n",
      "Label #1618716160: 'Horkheim' at (x: 9.1676575, y:49.116147700000006) with prio 9801 has t = 0.5350372850345787\n",
      "Label #1556687999: 'Frankenbach' at (x: 9.1717549, y:49.159423800000006) with prio 10022 has t = 0.3950841200171466\n",
      "Label #2626294843: 'Haselter' at (x: 9.1758971, y:49.13852180000001) with prio 8938 has t = 0.19055895000850182\n",
      "Label #2626294838: 'Gewerbegebiet\\nBöckingen West' at (x: 9.1643681, y:49.1413585) with prio 8937 has t = 0.12355901164664317\n",
      "Label #2626882442: 'Schanz' at (x: 9.180747, y:49.1457661) with prio 8957 has t = 0.27867669649156473\n",
      "Label #1564935149: 'Sontheim' at (x: 9.1884022, y:49.118011200000005) with prio 9777 has t = 0.2648671445641906\n",
      "Label #2626882430: 'Alt-Böckingen' at (x: 9.189984, y:49.1328405) with prio 8950 has t = 0.03408735157879569\n",
      "Label #1547719713: 'Böckingen' at (x: 9.1932571, y:49.133695) with prio 10045 has t = 0.2268601197300648\n",
      "Label #2626882436: 'Kreuzgrund' at (x: 9.185573, y:49.1493641) with prio 8954 has t = 0.100915114362865\n",
      "Label #2626882431: 'Gewerbegebiet\\nBöckingen-Nord' at (x: 9.1964612, y:49.148077) with prio 8951 has t = 0.1647492593932629\n",
      "Label #2313639502: 'Linsenbuckel' at (x: 9.2155926, y:49.113483300000006) with prio 7243 has t = 0.16707254053819548\n",
      "Label #1514149505: 'Neckargartach' at (x: 9.201474900000001, y:49.1686211) with prio 10037 has t = 0.3000727774276258\n",
      "Label #2626882433: 'Gewerbegebiet\\nSontheim' at (x: 9.203675, y:49.12369270000001) with prio 8952 has t = 0.17894624548932622\n",
      "Label #2626294865: 'Technologiepark\\nWohlgelegen' at (x: 9.207941100000001, y:49.1550932) with prio 8944 has t = 0.1195369340393496\n",
      "Label #2626294849: 'Industriegebiet\\nKanalhafen' at (x: 9.206256, y:49.153490000000005) with prio 8940 has t = 0.021875667042185534\n",
      "Label #2626294862: 'Sachsenäcker' at (x: 9.200837700000001, y:49.161383) with prio 8943 has t = 0.09341151177952946\n",
      "Label #838060983: 'Salzwerk' at (x: 9.2121858, y:49.167078800000006) with prio 8835 has t = 0.07653262506010274\n",
      "Label #2626294846: 'Herbert-Hoover-\\nSiedlung' at (x: 9.2277913, y:49.1235292) with prio 8939 has t = 0.20128626765420973\n",
      "Label #2626294833: 'Businesspark\\nSchwabenhof' at (x: 9.2190774, y:49.1210606) with prio 8936 has t = 0.07763821667745528\n",
      "Label #86050684: 'Gewerbegebiet\\nStuttgarter Straße' at (x: 9.2242551, y:49.1255115) with prio 8808 has t = 0.031147968799445327\n",
      "Label #2626882440: 'Rosenberg' at (x: 9.2122021, y:49.1355194) with prio 8956 has t = 0.09969763433364151\n",
      "Label #2626882434: 'Industriegebiet\\nKnorrstraße' at (x: 9.2144423, y:49.1328806) with prio 8953 has t = 0.04242723414608044\n",
      "Label #2626294853: 'Industriegebiet\\nNeckar' at (x: 9.2191031, y:49.1593183) with prio 8941 has t = 0.09483923959839828\n"
     ]
    }
   ],
   "source": [
    "min_t = 0\n",
    "min_lon = 9.16402\n",
    "max_lon = 9.24161\n",
    "min_lat = 49.11342\n",
    "max_lat = 49.16971\n",
    "\n",
    "\n",
    "res = runtime_ds.get_data(ds, min_t, min_lon, max_lon, min_lat, max_lat)\n",
    "\n",
    "l = list()\n",
    "for i in range(res.size):\n",
    "    l.append(Label(res.data[i]))\n",
    "\n",
    "print(\"Found {} matching items:\\n\".format(res.size))\n",
    "for e in l:\n",
    "    print(\"{}\".format(e.to_string()))"
   ]
  },
  {
   "cell_type": "code",
   "execution_count": 7,
   "metadata": {},
   "outputs": [
    {
     "data": {
      "text/plain": [
       "24"
      ]
     },
     "execution_count": 7,
     "metadata": {},
     "output_type": "execute_result"
    }
   ],
   "source": [
    "res.size"
   ]
  },
  {
   "cell_type": "code",
   "execution_count": null,
   "metadata": {
    "collapsed": true
   },
   "outputs": [],
   "source": []
  }
 ],
 "metadata": {
  "kernelspec": {
   "display_name": "Python 3",
   "language": "python",
   "name": "python3"
  },
  "language_info": {
   "codemirror_mode": {
    "name": "ipython",
    "version": 3
   },
   "file_extension": ".py",
   "mimetype": "text/x-python",
   "name": "python",
   "nbconvert_exporter": "python",
   "pygments_lexer": "ipython3",
   "version": "3.6.0"
  }
 },
 "nbformat": 4,
 "nbformat_minor": 2
}
