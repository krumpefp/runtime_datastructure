{
 "cells": [
  {
   "cell_type": "code",
   "execution_count": 1,
   "metadata": {
    "collapsed": true
   },
   "outputs": [],
   "source": [
    "from ctypes import *\n",
    "\n",
    "runtime_ds = CDLL(\"../target/release/libruntime_datastructure.so\")"
   ]
  },
  {
   "cell_type": "code",
   "execution_count": 2,
   "metadata": {
    "collapsed": true
   },
   "outputs": [],
   "source": [
    "class C_Label(Structure):\n",
    "    _fields_ = [(\"x\", c_double),\n",
    "                (\"y\", c_double),\n",
    "                (\"t\", c_double),\n",
    "                (\"osm_id\", c_long),\n",
    "                (\"prio\", c_int),\n",
    "                (\"label\", c_char_p)]\n",
    "    \n",
    "class C_Result(Structure):\n",
    "    _fields_ = [(\"size\", c_uint64),\n",
    "                (\"data\", POINTER(C_Label))]\n",
    "    \n",
    "class Label:\n",
    "    def __init__(self, l):\n",
    "        self.x = l.x\n",
    "        self.y = l.y\n",
    "        self.t = l.t\n",
    "        \n",
    "        self.osm_id = l.osm_id\n",
    "        self.prio = l.prio\n",
    "        self.label = l.label\n",
    "        \n",
    "    def to_string(self):\n",
    "        return \"Label #{}: '{}' at (x: {}, y:{}) with prio {} has t = {}\".format(self.osm_id, self.label, self.x, self.y, self.prio, self.t)"
   ]
  },
  {
   "cell_type": "code",
   "execution_count": 3,
   "metadata": {
    "collapsed": true
   },
   "outputs": [],
   "source": [
    "# init\n",
    "runtime_ds.init.argtypes = [c_char_p]\n",
    "runtime_ds.init.restype = c_void_p\n",
    "\n",
    "# is_good\n",
    "runtime_ds.is_good.argtypes = [c_void_p]\n",
    "runtime_ds.is_good.restype = c_bool\n",
    "\n",
    "#get_data\n",
    "runtime_ds.get_data.argtypes = [c_void_p, c_double, c_double, c_double, c_double, c_double]\n",
    "runtime_ds.get_data.restype = C_Result"
   ]
  },
  {
   "cell_type": "code",
   "execution_count": 4,
   "metadata": {
    "collapsed": true
   },
   "outputs": [],
   "source": [
    "def to_c_string(s):\n",
    "    return create_string_buffer(s.encode('utf-8'))"
   ]
  },
  {
   "cell_type": "code",
   "execution_count": 5,
   "metadata": {},
   "outputs": [
    {
     "name": "stdout",
     "output_type": "stream",
     "text": [
      "Initialisieren der Datenstuktur war erfolgreich: True\n"
     ]
    }
   ],
   "source": [
    "ds = runtime_ds.init(to_c_string(\"../resources/baden-wuerttemberg-latest.osm.pbf.ce\"))\n",
    "\n",
    "print(\"Initialisieren der Datenstuktur war erfolgreich: {}\".format(runtime_ds.is_good(ds)))"
   ]
  },
  {
   "cell_type": "code",
   "execution_count": 31,
   "metadata": {},
   "outputs": [
    {
     "name": "stdout",
     "output_type": "stream",
     "text": [
      "Found 15 matching items:\n",
      "Label #26769661: 'b'Heilbronn'' at (x: 9.218655, y:49.142291) with prio 14075 has t = 3.2690108033729004\n",
      "Label #1618716160: 'b'Horkheim'' at (x: 9.1676575, y:49.116147700000006) with prio 9801 has t = 0.5350372850345787\n",
      "Label #1556687999: 'b'Frankenbach'' at (x: 9.1717549, y:49.159423800000006) with prio 10022 has t = 0.3950841200171466\n",
      "Label #2626294843: 'b'Haselter'' at (x: 9.1758971, y:49.13852180000001) with prio 8938 has t = 0.19055895000850182\n",
      "Label #2626294838: 'b'Gewerbegebiet\\\\nB\\xc3\\xb6ckingen West'' at (x: 9.1643681, y:49.1413585) with prio 8937 has t = 0.12355901164664317\n",
      "Label #2626882442: 'b'Schanz'' at (x: 9.180747, y:49.1457661) with prio 8957 has t = 0.27867669649156473\n",
      "Label #1564935149: 'b'Sontheim'' at (x: 9.1884022, y:49.118011200000005) with prio 9777 has t = 0.2648671445641906\n",
      "Label #1547719713: 'b'B\\xc3\\xb6ckingen'' at (x: 9.1932571, y:49.133695) with prio 10045 has t = 0.2268601197300648\n",
      "Label #2626882436: 'b'Kreuzgrund'' at (x: 9.185573, y:49.1493641) with prio 8954 has t = 0.100915114362865\n",
      "Label #2626882431: 'b'Gewerbegebiet\\\\nB\\xc3\\xb6ckingen-Nord'' at (x: 9.1964612, y:49.148077) with prio 8951 has t = 0.1647492593932629\n",
      "Label #2313639502: 'b'Linsenbuckel'' at (x: 9.2155926, y:49.113483300000006) with prio 7243 has t = 0.16707254053819548\n",
      "Label #1514149505: 'b'Neckargartach'' at (x: 9.201474900000001, y:49.1686211) with prio 10037 has t = 0.3000727774276258\n",
      "Label #2626882433: 'b'Gewerbegebiet\\\\nSontheim'' at (x: 9.203675, y:49.12369270000001) with prio 8952 has t = 0.17894624548932622\n",
      "Label #2626294865: 'b'Technologiepark\\\\nWohlgelegen'' at (x: 9.207941100000001, y:49.1550932) with prio 8944 has t = 0.1195369340393496\n",
      "Label #2626294846: 'b'Herbert-Hoover-\\\\nSiedlung'' at (x: 9.2277913, y:49.1235292) with prio 8939 has t = 0.20128626765420973\n"
     ]
    }
   ],
   "source": [
    "res = runtime_ds.get_data(ds, 0.1, 9.16402, 9.24161, 49.11342, 49.16971)\n",
    "\n",
    "l = list()\n",
    "for i in range(res.size):\n",
    "    l.append(Label(res.data[i]))\n",
    "\n",
    "print(\"Found {} matching items:\".format(res.size))\n",
    "for e in l:\n",
    "    print(\"{}\".format(e.to_string()))"
   ]
  },
  {
   "cell_type": "code",
   "execution_count": 30,
   "metadata": {},
   "outputs": [
    {
     "data": {
      "text/plain": [
       "2"
      ]
     },
     "execution_count": 30,
     "metadata": {},
     "output_type": "execute_result"
    }
   ],
   "source": [
    "res.size"
   ]
  },
  {
   "cell_type": "code",
   "execution_count": null,
   "metadata": {
    "collapsed": true
   },
   "outputs": [],
   "source": []
  }
 ],
 "metadata": {
  "kernelspec": {
   "display_name": "Python 3",
   "language": "python",
   "name": "python3"
  },
  "language_info": {
   "codemirror_mode": {
    "name": "ipython",
    "version": 3
   },
   "file_extension": ".py",
   "mimetype": "text/x-python",
   "name": "python",
   "nbconvert_exporter": "python",
   "pygments_lexer": "ipython3",
   "version": "3.6.0"
  }
 },
 "nbformat": 4,
 "nbformat_minor": 2
}
